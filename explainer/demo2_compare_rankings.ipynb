{
 "cells": [
  {
   "cell_type": "markdown",
   "id": "d54f32a9",
   "metadata": {},
   "source": [
    "# Compute and compare prediction scores across different rankings (on a fine grained level)"
   ]
  },
  {
   "cell_type": "markdown",
   "id": "9ed1d986",
   "metadata": {},
   "source": [
    "### Imports"
   ]
  },
  {
   "cell_type": "code",
   "execution_count": 1,
   "id": "16902ab8",
   "metadata": {},
   "outputs": [],
   "source": [
    "\n",
    "import numpy as np\n",
    "import sys\n",
    "import os\n",
    "import util_scripts.stats_utils as su\n",
    "import util_scripts.analysis_utils as au\n",
    "import compare_rankings as cr\n",
    "sys.path.append('..')\n",
    "# Add the project root directory\n",
    "sys.path.append(os.path.abspath(\"../rule_based\"))  # or the absolute path to your project\n",
    "\n",
    "from rule_based.rule_dataset import RuleDataset\n",
    "from rule_based.eval import evaluate\n",
    "\n"
   ]
  },
  {
   "cell_type": "markdown",
   "id": "608a4a1f",
   "metadata": {},
   "source": [
    "## User Input"
   ]
  },
  {
   "cell_type": "code",
   "execution_count": null,
   "id": "e3be5c16",
   "metadata": {},
   "outputs": [],
   "source": [
    "dataset_name = 'tkgl-icews14'\n",
    "rankings_filename = 'tkgl-icews14-rucola.txt'  # replace with name of your rankings file - \n",
    "# you can generate rankings using the counttrucola main.py. it will be stored in files/rankings/dataset_name/\n",
    "# you can also use your own rankings file, as long as it is in the same format\n",
    "# rankings format example:\n",
    "# 25 13 ? 337\n",
    "# 15 0.8158242432096148 44 0.5658675347599267 87 0.2962600387521216 ...\n",
    "\n",
    "eval_mode ='test'\n",
    "path_rankings_test = os.path.join('..', 'files', 'rankings', dataset_name, rankings_filename) # path to the rankings file.\n",
    "\n",
    "\n",
    "# rankings_files_to_compare_to:\n",
    "rankings_files_to_compare_to = {'regcn': 'ICEWS14_rankings_regcn.txt'} # can be empty\n",
    "\n",
    "\n",
    "figs_dir = os.path.join('..', 'files', 'analysis', dataset_name)\n",
    "if not os.path.exists(figs_dir):\n",
    "    os.makedirs(figs_dir)\n"
   ]
  },
  {
   "cell_type": "markdown",
   "id": "43bbc561",
   "metadata": {},
   "source": [
    "## Figures and Stats\n",
    "\n",
    "### 1. Compute some basic dataset stats"
   ]
  },
  {
   "cell_type": "code",
   "execution_count": 3,
   "id": "0402e4bd",
   "metadata": {},
   "outputs": [
    {
     "name": "stdout",
     "output_type": "stream",
     "text": [
      "raw file found, skipping download\n",
      "Dataset directory is  c:\\Users\\jgasting\\PythonScripts\\Rules\\GraphTRuCoLa\\tgb/datasets\\tkgl_icews14\n",
      "loading processed file\n",
      "num_rels:  230\n",
      ">>> loading and indexing of dataset 2.720 seconds\n",
      ">>> average number of time steps for a triple: 1.804\n",
      ">>> checked order of time steps, everything is fine\n",
      "tkgl-icews14 first timestamp: 2014-01-01 last timestamp: 2014-12-31\n",
      "181460\n",
      ">>> read 181460 triples from time 364 to 0\n",
      ">>> read 14742 triples from time 364 to 334\n",
      "DATATSET:  tkgl-icews14\n",
      "all:       7371\n",
      "previous:  776\n",
      "sometime:  3860\n",
      "f-direct (DRec):   0.10527743861077195\n",
      "f-sometime (Rec): 0.5236738570071904\n",
      "the mean number of timesteps that a triple appears in is 1.803956655731186\n",
      "the median number of timesteps that a triple appears in is 1.0\n",
      "the maximum number of timesteps that a triple appears in is 188\n",
      "number of timesteps is 365\n",
      "number of total triples is 90730\n",
      "number of distinct triples is 50295\n",
      "the mean max number of 100*consecutive timesteps/number of timesteps that a triple appears in is 0.314914606561016\n",
      "the median max number of 100*consecutive timesteps/number of timesteps that a triple appears in is 0.273972602739726\n",
      "the maximum max number of 100*consecutive timesteps/number of timesteps that a triple appears in is 5.205479452054795\n",
      "the mean max number of consecutive timesteps that a triple appears in is 1.1494383139477085\n",
      "the median max number of consecutive timesteps that a triple appears in is 1.0\n",
      "the maximum max number of consecutive timesteps that a triple appears in is 19\n",
      "the std for max number of consecutive timesteps that a triple appears in is 0.554008638717768\n",
      "the seasonality for number of nodes is 7\n",
      "we have 0 nodes for0 timesteps\n",
      "0 nodes for timesteps:  []\n",
      "this is original unix timestamps:  []\n",
      "this is datetime:  []\n",
      "average number of triples per ts is 248.57534246575344\n",
      "std for average number of triples per ts is 75.54356772672784\n",
      "min/max number of triples per ts is (np.int64(93), np.int64(398))\n",
      "average number of nodes per ts is 227.3945205479452\n",
      "std for average number of nodes per ts is 59.2431994603969\n",
      "min/max number of nodes per ts is (np.int64(113), np.int64(328))\n",
      "Stats saved to csv  in folder:  ..\\files\\analysis\\tkgl-icews14\\dataset_stats.csv\n",
      ">>> read 181460 triples from time 364 to 0\n",
      ">>> read 14742 triples from time 364 to 334\n"
     ]
    }
   ],
   "source": [
    "## read dataset and compute some stats\n",
    "dataset =  RuleDataset(name=dataset_name)\n",
    "stats_df, num_triples_dict, rel_df = su.compute_stats(dataset_name, dataset)\n",
    "# stats_df"
   ]
  },
  {
   "cell_type": "markdown",
   "id": "aeb3d9b9",
   "metadata": {},
   "source": []
  },
  {
   "cell_type": "markdown",
   "id": "afb16485",
   "metadata": {},
   "source": [
    "### 2. Evaluation Part 1: Compute the MRR, e.g. MRR per relation of CountTRuCoLa"
   ]
  },
  {
   "cell_type": "code",
   "execution_count": 4,
   "id": "ac613cb1",
   "metadata": {},
   "outputs": [
    {
     "name": "stdout",
     "output_type": "stream",
     "text": [
      "loading negative test samples\n",
      ">>> starting evaluation for every triple, in the  test set\n"
     ]
    },
    {
     "name": "stderr",
     "output_type": "stream",
     "text": [
      "16506it [00:03, 4814.09it/s]                           \n"
     ]
    },
    {
     "name": "stdout",
     "output_type": "stream",
     "text": [
      "eval mode: test\n",
      "mean mrr: 0.44964123204696027\n",
      "mean hits@1: 0.35931352598019267\n",
      "mean hits@10: 0.62006512006512\n",
      "mean hits@100: 0.788427621760955\n",
      "time to evaluate: 18.036064863204956\n"
     ]
    }
   ],
   "source": [
    "## compute the mrr (per relation, per timestep from test set)\n",
    "testmrr, testhits10, testhits1, testhits100, testmrrperrel, testhits1perrel, testmrrperts, testhits1perts =evaluate(dataset, path_rankings_test, progressbar_percentage=0.01, evaluation_mode=eval_mode, eval_type='random')\n",
    "\n",
    "# extend the rel_df with the mrr per relation\n",
    "num_rels = dataset.num_rels\n",
    "\n",
    "for rel in rel_df['relation']:\n",
    "    if int(rel) in testmrrperrel:\n",
    "        rel_df.loc[rel_df['relation'] == rel, 'tail'] = testmrrperrel[rel][0]\n",
    "        inverse_rel = dataset.inverse_rel_dict[rel]\n",
    "        rel_df.loc[rel_df['relation'] == rel, 'head'] = testmrrperrel[inverse_rel][0]\n"
   ]
  },
  {
   "cell_type": "markdown",
   "id": "1c4e24d9",
   "metadata": {},
   "source": [
    "### 2. Evaluation Part 2: Compute MRR of other methods, for comparison "
   ]
  },
  {
   "cell_type": "code",
   "execution_count": 5,
   "id": "60af640f",
   "metadata": {},
   "outputs": [
    {
     "name": "stdout",
     "output_type": "stream",
     "text": [
      "loading negative test samples\n",
      ">>> starting evaluation for every triple, in the  test set\n"
     ]
    },
    {
     "name": "stderr",
     "output_type": "stream",
     "text": [
      "16506it [00:07, 2148.43it/s]                           \n"
     ]
    },
    {
     "name": "stdout",
     "output_type": "stream",
     "text": [
      "eval mode: test\n",
      "mean mrr: 0.4211267984744048\n",
      "mean hits@1: 0.3135938135938136\n",
      "mean hits@10: 0.6266449599782933\n",
      "mean hits@100: 0.8488671822005155\n",
      "time to evaluate: 199.49408555030823\n"
     ]
    }
   ],
   "source": [
    "## compare rankings - write the values where one is better than the other\n",
    "mrrperrel, hits1perrel, mrrperts, hits1perts = {}, {}, {}, {}\n",
    "for method_to_compare, path_rankings_compare_filename in rankings_files_to_compare_to.items():\n",
    "    # this might be slow if the method assigns scores to each node in the dataset.\n",
    "    path_rankings_compare = os.path.join('..', 'files', 'rankings', dataset_name, path_rankings_compare_filename)\n",
    "    mrr, hits10, hits1, hits100, mrrperrel_1, hits1perrel_1, mrrperts_1, hits1perts_1 =evaluate(dataset, path_rankings_compare, progressbar_percentage=0.01, evaluation_mode=eval_mode, eval_type='random')\n",
    "    mrrperrel[method_to_compare], hits1perrel[method_to_compare], mrrperts[method_to_compare], hits1perts[method_to_compare] = mrrperrel_1, hits1perrel_1, mrrperts_1, hits1perts_1\n",
    "\n",
    "# add the methods performance per rel to the relation dataframe\n",
    "for method_to_compare in mrrperrel.keys():\n",
    "    for rel in rel_df['relation']:\n",
    "        if int(rel) in mrrperrel[method_to_compare]:\n",
    "            rel_df.loc[rel_df['relation'] == rel, method_to_compare+'_tail'] = mrrperrel[method_to_compare][int(rel)][0]\n",
    "            rel_df.loc[rel_df['relation'] == rel, method_to_compare+'_head'] = mrrperrel[method_to_compare][int(dataset.inverse_rel_dict[rel])][0]\n",
    "\n"
   ]
  },
  {
   "cell_type": "markdown",
   "id": "c8249596",
   "metadata": {},
   "source": [
    "### 3. Plot MRR per relation to compare the Methods"
   ]
  },
  {
   "cell_type": "code",
   "execution_count": null,
   "id": "84d5f320",
   "metadata": {},
   "outputs": [
    {
     "name": "stdout",
     "output_type": "stream",
     "text": [
      "saved in  ..\\files\\analysis\\tkgl-icews14\\rel_mrrperrel_occ_tkgl-icews14_regcn.pdf\n"
     ]
    },
    {
     "data": {
      "text/plain": [
       "[np.int64(15578),\n",
       " np.int64(15578),\n",
       " np.int64(10067),\n",
       " np.int64(10067),\n",
       " np.int64(6266),\n",
       " np.int64(6266),\n",
       " np.int64(5087),\n",
       " np.int64(5087),\n",
       " np.int64(4267),\n",
       " np.int64(4267),\n",
       " np.int64(4265),\n",
       " np.int64(4265),\n",
       " np.int64(3989),\n",
       " np.int64(3989),\n",
       " np.int64(3598),\n",
       " np.int64(3598),\n",
       " np.int64(2992),\n",
       " np.int64(2992),\n",
       " np.int64(2653),\n",
       " np.int64(2653)]"
      ]
     },
     "execution_count": 16,
     "metadata": {},
     "output_type": "execute_result"
    },
    {
     "data": {
      "image/png": "[encoded data removed]",
      "text/plain": [
       "<Figure size 1000x500 with 2 Axes>"
      ]
     },
     "metadata": {},
     "output_type": "display_data"
    }
   ],
   "source": [
    "# plot the mrr per relation for the method and the methods to compare to\n",
    "au.plot_mrr_per_relation1(rel_df, figs_dir, dataset_name, num_rels_plot=10, head_tail_flag=True, mode='num_occurences', mrrperrel=mrrperrel)\n",
    "\n",
    "# alternative:\n",
    "# au.plot_mrr_per_relation(rel_df, figs_dir, dataset_name, num_rels_plot=10, head_tail_flag=True, mode='recurrency_degree', mrrperrel=mrrperrel)"
   ]
  },
  {
   "cell_type": "markdown",
   "id": "bd562fe4",
   "metadata": {},
   "source": [
    "### 4. Compare rankings between ranking files\n",
    "\n",
    "Compare the rankings of different ranking files and write the quadruples where the rankings in rankings_filenameare significantly \n",
    "better than in rankings_files_to_compare_to to a file. \n",
    "You can compare the rankings either for all relations or only for a subset of relations (relations_of_interest).\n",
    "\n",
    "The output file can be used as input (quadruples.txt) for the explainer and is automatically put into the directory explanations_path.\n",
    "Further, create a file that contains the quadruples where the rankings in rankings_better_name are significantly better than in rankings_worse_name and the ranks\n",
    "of both files for the quadruples to filebetter_path.\n",
    "\n",
    "This can also be done the other way round, by switching rankings_worse_name and rankings_better_name"
   ]
  },
  {
   "cell_type": "code",
   "execution_count": 7,
   "id": "15be69d6",
   "metadata": {},
   "outputs": [
    {
     "name": "stdout",
     "output_type": "stream",
     "text": [
      "raw file found, skipping download\n",
      "Dataset directory is  c:\\Users\\jgasting\\PythonScripts\\Rules\\GraphTRuCoLa\\tgb/datasets\\tkgl_icews14\n",
      "loading processed file\n",
      "num_rels:  230\n",
      ">>> loading and indexing of dataset 3.582 seconds\n",
      ">>> average number of time steps for a triple: 1.804\n",
      ">>> checked order of time steps, everything is fine\n",
      "loading negative test samples\n"
     ]
    },
    {
     "ename": "KeyboardInterrupt",
     "evalue": "",
     "output_type": "error",
     "traceback": [
      "\u001b[1;31m---------------------------------------------------------------------------\u001b[0m",
      "\u001b[1;31mKeyboardInterrupt\u001b[0m                         Traceback (most recent call last)",
      "Cell \u001b[1;32mIn[7], line 11\u001b[0m\n\u001b[0;32m      9\u001b[0m     filebetter_path \u001b[38;5;241m=\u001b[39m os\u001b[38;5;241m.\u001b[39mpath\u001b[38;5;241m.\u001b[39mjoin(outpath, \u001b[38;5;124m\"\u001b[39m\u001b[38;5;124mfilesb_better_all_\u001b[39m\u001b[38;5;124m\"\u001b[39m\u001b[38;5;241m+\u001b[39mdataset_name\u001b[38;5;241m+\u001b[39m\u001b[38;5;124m\"\u001b[39m\u001b[38;5;124m.txt\u001b[39m\u001b[38;5;124m\"\u001b[39m)\n\u001b[0;32m     10\u001b[0m     explanations_path \u001b[38;5;241m=\u001b[39m os\u001b[38;5;241m.\u001b[39mpath\u001b[38;5;241m.\u001b[39mjoin(outpath, \u001b[38;5;124m\"\u001b[39m\u001b[38;5;124mquadruples.txt\u001b[39m\u001b[38;5;124m\"\u001b[39m)  \u001b[38;5;66;03m# this can be used as input for the explainer\u001b[39;00m\n\u001b[1;32m---> 11\u001b[0m     compare_df \u001b[38;5;241m=\u001b[39m cr\u001b[38;5;241m.\u001b[39mcompare_rankings(rankings_worse_name, rankings_better_name, path, eval_mode, filebetter_path, explanations_path, dataset_name, relations_of_interest)\n\u001b[0;32m     13\u001b[0m compare_df\n",
      "File \u001b[1;32mc:\\Users\\jgasting\\PythonScripts\\Rules\\GraphTRuCoLa\\explainer\\compare_rankings.py:69\u001b[0m, in \u001b[0;36mcompare_rankings\u001b[1;34m(rankings_worse_name, rankings_better_name, path, evaluation_mode, filebetter_path, explanations_path, dataset_name, relations_of_interest, diff_threshold)\u001b[0m\n\u001b[0;32m     66\u001b[0m     \u001b[38;5;28mprint\u001b[39m(\u001b[38;5;124m\"\u001b[39m\u001b[38;5;124mloading negative test samples\u001b[39m\u001b[38;5;124m\"\u001b[39m)\n\u001b[0;32m     67\u001b[0m     dataset\u001b[38;5;241m.\u001b[39mload_test_ns() \u001b[38;5;66;03m# load negative samples, i.e. the nodes that are not used for time aware filter mrr\u001b[39;00m\n\u001b[1;32m---> 69\u001b[0m rankings_worse_rules \u001b[38;5;241m=\u001b[39m rule_utils\u001b[38;5;241m.\u001b[39mread_rankings_order(os\u001b[38;5;241m.\u001b[39mpath\u001b[38;5;241m.\u001b[39mjoin(path,rankings_worse_name), num_nodes)\n\u001b[0;32m     70\u001b[0m rankings_better_rules \u001b[38;5;241m=\u001b[39m rule_utils\u001b[38;5;241m.\u001b[39mread_rankings_order(os\u001b[38;5;241m.\u001b[39mpath\u001b[38;5;241m.\u001b[39mjoin(path,rankings_better_name), num_nodes)\n\u001b[0;32m     72\u001b[0m b_better \u001b[38;5;241m=\u001b[39m{}\n",
      "File \u001b[1;32mc:\\Users\\jgasting\\PythonScripts\\Rules\\GraphTRuCoLa\\rule_based\\rule_utils.py:229\u001b[0m, in \u001b[0;36mread_rankings_order\u001b[1;34m(path_rankings, num_nodes)\u001b[0m\n\u001b[0;32m    227\u001b[0m candidates \u001b[38;5;241m=\u001b[39m lines[i\u001b[38;5;241m+\u001b[39m\u001b[38;5;241m1\u001b[39m]\u001b[38;5;241m.\u001b[39msplit(\u001b[38;5;124m\"\u001b[39m\u001b[38;5;124m \u001b[39m\u001b[38;5;124m\"\u001b[39m)\n\u001b[0;32m    228\u001b[0m i \u001b[38;5;241m=\u001b[39m \u001b[38;5;241m0\u001b[39m\n\u001b[1;32m--> 229\u001b[0m \u001b[38;5;28;01mfor\u001b[39;00m x \u001b[38;5;129;01min\u001b[39;00m \u001b[38;5;28mrange\u001b[39m(\u001b[38;5;241m0\u001b[39m, \u001b[38;5;28mlen\u001b[39m(candidates), \u001b[38;5;241m2\u001b[39m):\n\u001b[0;32m    230\u001b[0m     tuples_candidates_with_scores[\u001b[38;5;28mint\u001b[39m(candidates[x])] \u001b[38;5;241m=\u001b[39m \u001b[38;5;28mfloat\u001b[39m(scores[i]) \n\u001b[0;32m    231\u001b[0m     i\u001b[38;5;241m+\u001b[39m\u001b[38;5;241m=\u001b[39m\u001b[38;5;241m1\u001b[39m\n",
      "\u001b[1;31mKeyboardInterrupt\u001b[0m: "
     ]
    }
   ],
   "source": [
    "relations_of_interest = [1] #None # if None, all relations are considered\n",
    "path = os.path.join('..', 'files', 'rankings', dataset_name)\n",
    "rankings_better_name = rankings_filename\n",
    "for method, rankings_worse_name in rankings_files_to_compare_to.items():\n",
    "    experiment_name = method\n",
    "    outpath = os.path.join('..', 'files', 'explanations', experiment_name, 'input')\n",
    "    if not os.path.exists(outpath):\n",
    "        os.makedirs(outpath)\n",
    "    filebetter_path = os.path.join(outpath, \"filesb_better_all_\"+dataset_name+\".txt\")\n",
    "    explanations_path = os.path.join(outpath, \"quadruples.txt\")  # this can be used as input for the explainer\n",
    "    compare_df = cr.compare_rankings(rankings_worse_name, rankings_better_name, path, eval_mode, filebetter_path, explanations_path, dataset_name, relations_of_interest)\n",
    "\n",
    "compare_df"
   ]
  }
 ],
 "metadata": {
  "kernelspec": {
   "display_name": "rules",
   "language": "python",
   "name": "python3"
  },
  "language_info": {
   "codemirror_mode": {
    "name": "ipython",
    "version": 3
   },
   "file_extension": ".py",
   "mimetype": "text/x-python",
   "name": "python",
   "nbconvert_exporter": "python",
   "pygments_lexer": "ipython3",
   "version": "3.11.13"
  }
 },
 "nbformat": 4,
 "nbformat_minor": 5
}
